{
 "cells": [
  {
   "cell_type": "markdown",
   "metadata": {},
   "source": [
    "# Create performance charts\n",
    "This notebook demonstrates how to create charts for a performance run or set of performance runs"
   ]
  },
  {
   "cell_type": "code",
   "execution_count": null,
   "metadata": {},
   "outputs": [],
   "source": [
    "# Install notebook requirements if needed\n",
    "import sys\n",
    "!{sys.executable} -m pip install -r requirements.txt"
   ]
  },
  {
   "cell_type": "code",
   "execution_count": null,
   "metadata": {},
   "outputs": [],
   "source": [
    "import plotly.graph_objects as go\n",
    "from harmony.charts import create_bar, create_data_frame, display_bar_chart"
   ]
  },
  {
   "cell_type": "code",
   "execution_count": null,
   "metadata": {},
   "outputs": [],
   "source": [
    "# Replace the example data files with files from the performance runs to chart.\n",
    "# The key in the dictionary should match the label to use for that particular run.\n",
    "data_files_dict = {\n",
    "    'Pre-autoscaling': 'workload-before-autoscaling-and-fair-queueing/requests_1648238936.893978.csv',\n",
    "    'Autoscale 10 pods': 'workload-after-scaling-current-baseline/requests_1648228111.3575082.csv',\n",
    "    'Autoscale 50 pods': 'workload-with-some-new-ideas-and-config/requests_1648233323.571887.csv'\n",
    "}"
   ]
  },
  {
   "cell_type": "markdown",
   "metadata": {},
   "source": [
    "## Display limited set of custom charts"
   ]
  },
  {
   "cell_type": "code",
   "execution_count": null,
   "metadata": {},
   "outputs": [],
   "source": [
    "# The charts to generate\n",
    "charts= [{'title': 'Average response time',\n",
    "          'column': 'Average Seconds',\n",
    "          'yaxis_title': 'seconds'},\n",
    "         {'title': 'Number of requests',\n",
    "          'column': 'Request Count',\n",
    "          'yaxis_title': ''},\n",
    "         {'title': 'Number of failures - (main cause 3 minute timeouts)',\n",
    "          'column': 'Failure Count',\n",
    "          'yaxis_title': ''}]"
   ]
  },
  {
   "cell_type": "code",
   "execution_count": null,
   "metadata": {},
   "outputs": [],
   "source": [
    "for chart in charts:\n",
    "    bar_objects = []\n",
    "    for label in data_files_dict:\n",
    "        df = create_data_frame(data_files_dict[label])\n",
    "        df['Average Seconds'] = df['Average Response Time'] / 1000\n",
    "        bar_object = create_bar(label, df, chart['column'])\n",
    "        bar_objects.append(bar_object)\n",
    "\n",
    "    fig = go.Figure(data=bar_objects)\n",
    "    display_bar_chart(fig, chart['title'], yaxis_title=chart['yaxis_title'])"
   ]
  },
  {
   "cell_type": "markdown",
   "metadata": {},
   "source": [
    "## Display charts for all locust performance data"
   ]
  },
  {
   "cell_type": "code",
   "execution_count": null,
   "metadata": {},
   "outputs": [],
   "source": [
    "# Get a list of all the columns in the data\n",
    "first_key = list(data_files_dict.keys())[0]\n",
    "df = create_data_frame(data_files_dict[first_key])\n",
    "columns = df.columns.tolist()\n",
    "columns.remove('Type')\n",
    "columns.remove('Name')\n",
    "\n",
    "for column in columns:\n",
    "    \n",
    "    bar_objects = []\n",
    "    for label in data_files_dict:\n",
    "        df = create_data_frame(data_files_dict[label])\n",
    "        bar_object = create_bar(label, df, column)\n",
    "        bar_objects.append(bar_object)\n",
    "\n",
    "    fig = go.Figure(data=bar_objects)\n",
    "    display_bar_chart(fig, column)"
   ]
  },
  {
   "cell_type": "code",
   "execution_count": null,
   "metadata": {},
   "outputs": [],
   "source": []
  }
 ],
 "metadata": {
  "kernelspec": {
   "display_name": "3.8.2-workload",
   "language": "python",
   "name": "workload"
  },
  "language_info": {
   "codemirror_mode": {
    "name": "ipython",
    "version": 3
   },
   "file_extension": ".py",
   "mimetype": "text/x-python",
   "name": "python",
   "nbconvert_exporter": "python",
   "pygments_lexer": "ipython3",
   "version": "3.8.2"
  }
 },
 "nbformat": 4,
 "nbformat_minor": 4
}
