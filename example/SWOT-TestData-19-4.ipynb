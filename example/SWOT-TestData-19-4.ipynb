{
 "cells": [
  {
   "cell_type": "markdown",
   "metadata": {},
   "source": [
    "# Harmony EOSS API Tutorial - SWOT Test PI 19.4"
   ]
  },
  {
   "cell_type": "markdown",
   "metadata": {},
   "source": [
    "## Before you start\n",
    "Before you beginning this tutorial, make sure you have an account in the Earthdata Login UAT environment, which \n",
    "will be used for this notebook by visiting [https://uat.urs.earthdata.nasa.gov](https://uat.urs.earthdata.nasa.gov).\n",
    "These accounts, as all Earthdata Login accounts, are free to create and only take a moment to set up."
   ]
  },
  {
   "cell_type": "markdown",
   "metadata": {},
   "source": [
    "## Set Up Authentication\n",
    "\n",
    "We need some boilerplate up front to log in to Earthdata Login.  The function below will allow Python\n",
    "scripts to log into any Earthdata Login application programmatically.  To avoid being prompted for\n",
    "credentials every time you run and also allow clients such as curl to log in, you can add the following\n",
    "to a `.netrc` (`_netrc` on Windows) file in your home directory:\n",
    "\n",
    "```\n",
    "machine uat.urs.earthdata.nasa.gov\n",
    "    login <your username>\n",
    "    password <your password>\n",
    "```\n",
    "\n",
    "Make sure that this file is only readable by the current user or you will receive an error stating\n",
    "\"netrc access too permissive.\"\n",
    "\n",
    "`$ chmod 0600 ~/.netrc` \n"
   ]
  },
  {
   "cell_type": "code",
   "execution_count": null,
   "metadata": {},
   "outputs": [],
   "source": [
    "from urllib import request\n",
    "from http.cookiejar import CookieJar\n",
    "import getpass\n",
    "import netrc\n",
    "\n",
    "def setup_earthdata_login_auth(endpoint):\n",
    "    \"\"\"\n",
    "    Set up the request library so that it authenticates against the given Earthdata Login\n",
    "    endpoint and is able to track cookies between requests.  This looks in the .netrc file \n",
    "    first and if no credentials are found, it prompts for them.\n",
    "\n",
    "    Valid endpoints include:\n",
    "        uat.urs.earthdata.nasa.gov - Earthdata Login UAT (Harmony's current default)\n",
    "        urs.earthdata.nasa.gov - Earthdata Login production\n",
    "    \"\"\"\n",
    "    try:\n",
    "        username, _, password = netrc.netrc().authenticators(endpoint)\n",
    "    except (FileNotFoundError, TypeError):\n",
    "        # FileNotFound = There's no .netrc file\n",
    "        # TypeError = The endpoint isn't in the netrc file, causing the above to try unpacking None\n",
    "        print('Please provide your Earthdata Login credentials to allow data access')\n",
    "        print('Your credentials will only be passed to %s and will not be exposed in Jupyter' % (endpoint))\n",
    "        username = input('Username:')\n",
    "        password = getpass.getpass()\n",
    "\n",
    "    manager = request.HTTPPasswordMgrWithDefaultRealm()\n",
    "    manager.add_password(None, endpoint, username, password)\n",
    "    auth = request.HTTPBasicAuthHandler(manager)\n",
    "\n",
    "    jar = CookieJar()\n",
    "    processor = request.HTTPCookieProcessor(jar)\n",
    "    opener = request.build_opener(auth, processor)\n",
    "    request.install_opener(opener)\n"
   ]
  },
  {
   "cell_type": "markdown",
   "metadata": {},
   "source": [
    "Now call the above function to set up Earthdata Login for subsequent requests"
   ]
  },
  {
   "cell_type": "code",
   "execution_count": null,
   "metadata": {},
   "outputs": [],
   "source": [
    "setup_earthdata_login_auth('uat.urs.earthdata.nasa.gov')"
   ]
  },
  {
   "cell_type": "markdown",
   "metadata": {},
   "source": [
    "## Build the EOSS Root URL\n",
    "\n",
    "Next we will build a URL for the EOSS service for a given granule.  To get data using the service, you need \n",
    "a [CMR UAT](https://cmr.uat.earthdata.nasa.gov) collection ID for a supported collection and the ID of a\n",
    "granule within that collection.\n",
    "\n",
    "By convention, all Harmony services are accessed through `<harmony_root>/<collection_id>/<service_name>`"
   ]
  },
  {
   "cell_type": "code",
   "execution_count": null,
   "metadata": {},
   "outputs": [],
   "source": [
    "harmony_root = 'https://harmony.uat.earthdata.nasa.gov'\n",
    "config = {\n",
    "    'collection_id': 'C1233147319-EEDTEST',\n",
    "    'eoss_version': '0.1.0'\n",
    "}\n",
    "eoss_collection_root = harmony_root+'/{collection_id}/eoss/{eoss_version}/items/'.format(**config)\n",
    "\n",
    "print(eoss_collection_root)"
   ]
  },
  {
   "cell_type": "markdown",
   "metadata": {},
   "source": [
    "## Reproject a Granule\n",
    "\n",
    "We can now build onto the root URL in order to actually perform a transformation.  The first transformation is a reprojection of a selected granule. Coordinate reference systems are identified by a common name, EPSG code, or URI. Today, this is based on reference systems supported by gdal. Examples include: 'CRS:84', 'EPSG:32611'.\n",
    "\n",
    "_At this time, this requires discovering the granule id from CMR_.  That information can then be appended to the root URL and used to call Harmony with the help of the `request` library.\n",
    "\n",
    "Harmony stages transformed data in S3 to make it easy to do additional processing in the cloud. The response that Harmony returns is actually a redirect to the S3 location where your data is staged.  Should you call Harmony in a tool that follows redirects, like your web browser, your file will be seamlessly downloaded locally for you.  However, should you desire to do additional processing in AWS, you have that option as well by simply looking at the redirected URL.  The code snippet below uses \"geturl()\" to show the URL of your staged data."
   ]
  },
  {
   "cell_type": "markdown",
   "metadata": {},
   "source": [
    "## Reproject to Geographic"
   ]
  },
  {
   "cell_type": "code",
   "execution_count": null,
   "metadata": {},
   "outputs": [],
   "source": [
    "reprojectionConfig = {\n",
    "    'granule_id' : 'G1233147320-EEDTEST',\n",
    "    'crs' : 'EPSG:4326'\n",
    "}\n",
    "eoss_reprojection_url = eoss_collection_root+'{granule_id}?crs={crs}'.format(**reprojectionConfig)\n",
    "\n",
    "\n",
    "print('Request URL', eoss_reprojection_url)\n",
    "\n",
    "with request.urlopen(eoss_reprojection_url) as response:\n",
    "    print('URL for data staged in S3:', response.geturl())\n"
   ]
  },
  {
   "cell_type": "code",
   "execution_count": null,
   "metadata": {},
   "outputs": [],
   "source": [
    "#+proj=longlat\n",
    "reprojectionConfig = {\n",
    "    'granule_id' : 'G1233147320-EEDTEST',\n",
    "    'crs' : '%2Bproj%3Dlonglat'\n",
    "}\n",
    "eoss_reprojection_url = eoss_collection_root+'{granule_id}?crs={crs}'.format(**reprojectionConfig)\n",
    "\n",
    "\n",
    "print('Request URL', eoss_reprojection_url)\n",
    "print('')\n",
    "\n",
    "with request.urlopen(eoss_reprojection_url) as response:\n",
    "    print('URL for data staged in S3:', response.geturl())"
   ]
  },
  {
   "cell_type": "markdown",
   "metadata": {},
   "source": [
    "## Reproject to Cylindrical Equal Area \n",
    "\n",
    "The third transformation is a reprojection of the data. This can be combined with the requests we already built above by simply specifying a coordinate reference system.  Coordinate reference systems are identified by a common name, EPSG code, or URI. Today, this is based on reference systems supported by gdal. Examples include: 'CRS:84', 'EPSG:32611'."
   ]
  },
  {
   "cell_type": "code",
   "execution_count": null,
   "metadata": {},
   "outputs": [],
   "source": [
    "reprojectionConfig = {\n",
    "    'granule_id' : 'G1233147320-EEDTEST',\n",
    "    'crs' : '%2Bproj%3Dcea'\n",
    "}\n",
    "eoss_reprojection_url = eoss_collection_root+'{granule_id}?crs={crs}'.format(**reprojectionConfig)\n",
    "\n",
    "\n",
    "print('Request URL', eoss_reprojection_url)\n",
    "\n",
    "with request.urlopen(eoss_reprojection_url) as response:\n",
    "    print('URL for data staged in S3:', response.geturl())"
   ]
  },
  {
   "cell_type": "code",
   "execution_count": null,
   "metadata": {},
   "outputs": [],
   "source": [
    "reprojectionConfig = {\n",
    "    'granule_id' : 'G1233147320-EEDTEST',\n",
    "    'crs' : 'EPSG:32634'\n",
    "}\n",
    "eoss_reprojection_url = eoss_collection_root+'{granule_id}?crs={crs}'.format(**reprojectionConfig)\n",
    "\n",
    "\n",
    "print('Request URL', eoss_reprojection_url)\n",
    "\n",
    "with request.urlopen(eoss_reprojection_url) as response:\n",
    "    print('URL for data staged in S3:', response.geturl())"
   ]
  },
  {
   "cell_type": "markdown",
   "metadata": {},
   "source": [
    "## Spatial Subset\n",
    "\n",
    "The EOSS API also allows for spatial subsetting of data via specification of a bounding box, as we can see with the collection below.  "
   ]
  },
  {
   "cell_type": "code",
   "execution_count": null,
   "metadata": {},
   "outputs": [],
   "source": [
    "config = {\n",
    "    'collection_id': 'C1225996408-POCUMULUS',\n",
    "    'eoss_version': '0.1.0',\n",
    "    'granule_id' : 'G1226018959-POCUMULUS',\n",
    "    'west' : '-15.29',\n",
    "    'south' : '-7.18',\n",
    "    'east' : '-0.35',\n",
    "    'north' : '6.83'\n",
    "}\n",
    "\n",
    "eoss_spatial_subset_url = harmony_root+'/{collection_id}/eoss/{eoss_version}/items/{granule_id}?bbox={west}%2C{south}%2C{east}%2C{north}'.format(**config)\n",
    "\n",
    "print('Request URL', eoss_spatial_subset_url)\n",
    "\n",
    "response = request.urlopen(eoss_spatial_subset_url)\n",
    "data = response.read()\n",
    "\n",
    "# Write data to file \n",
    "# Change this to save to a directory where you have write permissions\n",
    "filepath = ('/TBD/harmonySpatialSubset.nc')\n",
    "file_ = open(filepath, 'wb')\n",
    "file_.write(data)\n",
    "file_.close()\n"
   ]
  }
 ],
 "metadata": {
  "kernelspec": {
   "display_name": "Python 3",
   "language": "python",
   "name": "python3"
  },
  "language_info": {
   "codemirror_mode": {
    "name": "ipython",
    "version": 3
   },
   "file_extension": ".py",
   "mimetype": "text/x-python",
   "name": "python",
   "nbconvert_exporter": "python",
   "pygments_lexer": "ipython3",
   "version": "3.7.3"
  }
 },
 "nbformat": 4,
 "nbformat_minor": 4
}
