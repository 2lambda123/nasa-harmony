{
 "cells": [
  {
   "cell_type": "markdown",
   "id": "7aa75407-5703-4a2e-8cde-849ae442ed9b",
   "metadata": {},
   "source": [
    "# Tour of New Harmony Services\n",
    "## PI 21.4 Solution Demonstration\n",
    "\n",
    "Outline:\n",
    "1. Segmented Trajectory Subsetter in support of GEDI and ICESat-2 data\n",
    "2. Data aggregation: PO.DAAC CONCISE service\n",
    "3. Cloud Optimized GeoTIFF (COG) reformatting\n",
    "4. Zarr customized chunking \n",
    "\n",
    "\n",
    "For each service demo, include at a minimum:\n",
    "* Input data support: Data structures and levels supported, Collections tested against the service, Collections currently supported\n",
    "* Request via Harmony-py: Required/supported service params\n",
    "* Obtain output S3 URLs\n",
    "* Open s3 files (e.g. with s3fs and xarray to demonstrate AiP)\n",
    "* Make a pretty picture / demonstrate transformations performed to input granules\n",
    "\n"
   ]
  },
  {
   "cell_type": "markdown",
   "id": "9e2d61a0-47be-4fb4-a6c4-56a75a0dae4b",
   "metadata": {},
   "source": [
    "## Trajectory Subsetting"
   ]
  },
  {
   "cell_type": "code",
   "execution_count": null,
   "id": "1e63b703-39b8-4020-93a2-f19a7b905db8",
   "metadata": {},
   "outputs": [],
   "source": []
  },
  {
   "cell_type": "markdown",
   "id": "33d9cbbc-f9cc-47c7-9f1c-aadd9ae90e3e",
   "metadata": {},
   "source": [
    "## CONCISE aggregation"
   ]
  },
  {
   "cell_type": "code",
   "execution_count": null,
   "id": "cde1aa06-0293-4ce2-8ede-e88dee1778d8",
   "metadata": {},
   "outputs": [],
   "source": []
  },
  {
   "cell_type": "markdown",
   "id": "96aa1067-4ee8-4c72-ad08-a192d672f980",
   "metadata": {},
   "source": [
    "## Cloud Optimized GeoTIFF (COG) Reformatting"
   ]
  },
  {
   "cell_type": "code",
   "execution_count": null,
   "id": "73080e66-c907-4b71-9ae2-20d915e5c451",
   "metadata": {},
   "outputs": [],
   "source": []
  },
  {
   "cell_type": "markdown",
   "id": "b6f7f148-eaf0-40cc-81b9-0fa483497d13",
   "metadata": {},
   "source": [
    "## Zarr Customized Chunking"
   ]
  },
  {
   "cell_type": "code",
   "execution_count": null,
   "id": "6d9125da-952e-413c-bc84-bf90562323d6",
   "metadata": {},
   "outputs": [],
   "source": []
  }
 ],
 "metadata": {
  "kernelspec": {
   "display_name": "Python 3 (ipykernel)",
   "language": "python",
   "name": "python3"
  },
  "language_info": {
   "codemirror_mode": {
    "name": "ipython",
    "version": 3
   },
   "file_extension": ".py",
   "mimetype": "text/x-python",
   "name": "python",
   "nbconvert_exporter": "python",
   "pygments_lexer": "ipython3",
   "version": "3.9.7"
  }
 },
 "nbformat": 4,
 "nbformat_minor": 5
}
