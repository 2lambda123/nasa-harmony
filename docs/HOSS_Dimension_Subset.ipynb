{
 "cells": [
  {
   "cell_type": "code",
   "execution_count": 1,
   "id": "f5c98b14",
   "metadata": {},
   "outputs": [],
   "source": [
    "import datetime as dt\n",
    "from IPython.display import display, JSON\n",
    "from harmony import BBox, Client, Collection, Request, Dimension\n",
    "from harmony.config import Environment\n",
    "import os\n",
    "import netCDF4 as nc4"
   ]
  },
  {
   "cell_type": "code",
   "execution_count": 2,
   "id": "80ad5272",
   "metadata": {},
   "outputs": [],
   "source": [
    "# Tropics Bounding box\n",
    "name = 'tropics'\n",
    "minLon = -160\n",
    "maxLon = -75\n",
    "minLat = -10\n",
    "maxLat = 10"
   ]
  },
  {
   "cell_type": "code",
   "execution_count": 3,
   "id": "5acf8d2b",
   "metadata": {
    "scrolled": false
   },
   "outputs": [],
   "source": [
    "harmony_client = Client(env=Environment.LOCAL)\n",
    "myenv = 'local'"
   ]
  },
  {
   "cell_type": "code",
   "execution_count": 4,
   "id": "72139df1",
   "metadata": {},
   "outputs": [],
   "source": [
    "# Construct Harmony requests for UAT\n",
    "def get_request(minLon, minLat, maxLon, maxLat):\n",
    "    collection = Collection(id='C1215726323-GES_DISC') # M2I3NPASM in UAT \n",
    "    request = Request(\n",
    "        collection = collection,\n",
    "        spatial    = BBox(minLon, minLat, maxLon, maxLat),\n",
    "        dimensions = [Dimension('lev', 800, 900)],\n",
    "        max_results = 1\n",
    "    )\n",
    "    return request"
   ]
  },
  {
   "cell_type": "code",
   "execution_count": 5,
   "id": "f003930f",
   "metadata": {},
   "outputs": [],
   "source": [
    "# Submit Harmony requests, get back the file name of the downloaded result\n",
    "\n",
    "def submit_request(request, name):\n",
    "    # submit the job, save the jobID, print a URL to check job status in browser\n",
    "    job_id = harmony_client.submit(request)\n",
    "    print('http://localhost:3000/jobs/'+job_id)\n",
    "\n",
    "    # show the progress bar for the job, get the result URL\n",
    "    harmony_client.wait_for_processing(job_id, show_progress=True)\n",
    "    urls = harmony_client.result_urls(job_id, show_progress=True)\n",
    "\n",
    "    # create a local subdir, download the results \n",
    "    dir_name = './harmony_'+name\n",
    "    if not os.path.exists(dir_name):\n",
    "        os.mkdir(dir_name)\n",
    "    results = harmony_client.download_all(job_id, directory=dir_name, overwrite=True)\n",
    "\n",
    "    # stash the file names for easy reference\n",
    "    file_names = [f.result() for f in results]\n",
    "\n",
    "    # return the first (only?) file name \n",
    "    return file_names[0]"
   ]
  },
  {
   "cell_type": "code",
   "execution_count": 6,
   "id": "75b4ecf9",
   "metadata": {},
   "outputs": [],
   "source": [
    "# Get this subset from Harmony UAT\n",
    "request = get_request(minLon, minLat, maxLon, maxLat)"
   ]
  },
  {
   "cell_type": "code",
   "execution_count": 13,
   "id": "6fd870cc",
   "metadata": {},
   "outputs": [
    {
     "name": "stdout",
     "output_type": "stream",
     "text": [
      "http://localhost:3000/jobs/c2335172-3caa-46d9-bf70-4ed9ed47714d\n"
     ]
    },
    {
     "name": "stderr",
     "output_type": "stream",
     "text": [
      " [ Processing: 100% ] |###################################################| [|]\n"
     ]
    }
   ],
   "source": [
    "if request.is_valid():\n",
    "    harmony_fname = submit_request(request, name)\n",
    "else:\n",
    "    harmony_fname = 'Invalid_Request'"
   ]
  },
  {
   "cell_type": "code",
   "execution_count": 8,
   "id": "44bd2bd9",
   "metadata": {},
   "outputs": [
    {
     "name": "stdout",
     "output_type": "stream",
     "text": [
      "./harmony_tropics/M2I3NPASM.5.12.4_MERRA2_300.inst3_3d_asm_Np.20010101_subsetted.nc4\n"
     ]
    }
   ],
   "source": [
    "print(harmony_fname)"
   ]
  },
  {
   "cell_type": "code",
   "execution_count": 14,
   "id": "d601061e",
   "metadata": {},
   "outputs": [],
   "source": [
    "f=nc4.Dataset(harmony_fname)"
   ]
  },
  {
   "cell_type": "code",
   "execution_count": 16,
   "id": "00b4eb94",
   "metadata": {},
   "outputs": [
    {
     "data": {
      "text/plain": [
       "'[{\"$schema\":\"https:\\\\/\\\\/harmony.earthdata.nasa.gov\\\\/schemas\\\\/history\\\\/0.1.0\\\\/history-0.1.0.json\",\"date_time\":\"2022-06-06T17:22:07.084+0000\",\"program\":\"hyrax\",\"version\":\"1.16.5-229\",\"parameters\":[{\"request_url\":\"https:\\\\/\\\\/opendap.uat.earthdata.nasa.gov\\\\/collections\\\\/C1215726323-GES_DISC\\\\/granules\\\\/M2I3NPASM.5.12.4%3AMERRA2_300.inst3_3d_asm_Np.20010101.nc4.dap.nc4?dap4.ce=%2FQI%5B%5D%5B4%3A8%5D%5B160%3A200%5D%5B32%3A168%5D%3B%2FQV%5B%5D%5B4%3A8%5D%5B160%3A200%5D%5B32%3A168%5D%3B%2FSLP%5B%5D%5B160%3A200%5D%5B32%3A168%5D%3B%2Flev%5B4%3A8%5D%3B%2FQL%5B%5D%5B4%3A8%5D%5B160%3A200%5D%5B32%3A168%5D%3B%2FT%5B%5D%5B4%3A8%5D%5B160%3A200%5D%5B32%3A168%5D%3B%2FU%5B%5D%5B4%3A8%5D%5B160%3A200%5D%5B32%3A168%5D%3B%2FEPV%5B%5D%5B4%3A8%5D%5B160%3A200%5D%5B32%3A168%5D%3B%2FO3%5B%5D%5B4%3A8%5D%5B160%3A200%5D%5B32%3A168%5D%3B%2Ftime%3B%2FOMEGA%5B%5D%5B4%3A8%5D%5B160%3A200%5D%5B32%3A168%5D%3B%2Flat%5B160%3A200%5D%3B%2FRH%5B%5D%5B4%3A8%5D%5B160%3A200%5D%5B32%3A168%5D%3B%2FV%5B%5D%5B4%3A8%5D%5B160%3A200%5D%5B32%3A168%5D%3B%2Flon%5B32%3A168%5D%3B%2FPS%5B%5D%5B160%3A200%5D%5B32%3A168%5D%3B%2FPHIS%5B%5D%5B160%3A200%5D%5B32%3A168%5D%3B%2FH%5B%5D%5B4%3A8%5D%5B160%3A200%5D%5B32%3A168%5D\"},{\"decoded_constraint\":\"dap4.ce=\\\\/QI[][4:8][160:200][32:168];\\\\/QV[][4:8][160:200][32:168];\\\\/SLP[][160:200][32:168];\\\\/lev[4:8];\\\\/QL[][4:8][160:200][32:168];\\\\/T[][4:8][160:200][32:168];\\\\/U[][4:8][160:200][32:168];\\\\/EPV[][4:8][160:200][32:168];\\\\/O3[][4:8][160:200][32:168];\\\\/time;\\\\/OMEGA[][4:8][160:200][32:168];\\\\/lat[160:200];\\\\/RH[][4:8][160:200][32:168];\\\\/V[][4:8][160:200][32:168];\\\\/lon[32:168];\\\\/PS[][160:200][32:168];\\\\/PHIS[][160:200][32:168];\\\\/H[][4:8][160:200][32:168]\"}]}]'"
      ]
     },
     "execution_count": 16,
     "metadata": {},
     "output_type": "execute_result"
    }
   ],
   "source": [
    "f.getncattr('history_json')"
   ]
  },
  {
   "cell_type": "code",
   "execution_count": 18,
   "id": "a167626c",
   "metadata": {},
   "outputs": [
    {
     "name": "stdout",
     "output_type": "stream",
     "text": [
      "data:\r\n",
      "\r\n",
      " lev = 900, 875, 850, 825, 800 ;\r\n",
      "}\r\n"
     ]
    }
   ],
   "source": [
    "!ncdump -v lev ./harmony_tropics/M2I3NPASM.5.12.4_MERRA2_300.inst3_3d_asm_Np.20010101_subsetted.nc4 | tail -4"
   ]
  },
  {
   "cell_type": "code",
   "execution_count": 23,
   "id": "f7d3de2a",
   "metadata": {},
   "outputs": [
    {
     "name": "stdout",
     "output_type": "stream",
     "text": [
      "\r\n",
      " lev = 1000, 975, 950, 925, 900, 875, 850, 825, 800, 775, 750, 725, 700, 650, \r\n",
      "    600, 550, 500, 450, 400, 350, 300, 250, 200, 150, 100, 70, 50, 40, 30, \r\n",
      "    20, 10, 7, 5, 4, 3, 2, 1, 0.699999988079071, 0.5, 0.400000005960464, \r\n",
      "    0.300000011920929, 0.100000001490116 ;\r\n",
      "}\r\n"
     ]
    }
   ],
   "source": [
    "!ncdump -v lev ../data_samples/M2I3NPASM/MERRA2_300.inst3_3d_asm_Np.20010101.nc4 | tail -6"
   ]
  },
  {
   "cell_type": "code",
   "execution_count": null,
   "id": "2f3426fc",
   "metadata": {},
   "outputs": [],
   "source": []
  }
 ],
 "metadata": {
  "kernelspec": {
   "display_name": "harmony-py",
   "language": "python",
   "name": "harmony-py"
  },
  "language_info": {
   "codemirror_mode": {
    "name": "ipython",
    "version": 3
   },
   "file_extension": ".py",
   "mimetype": "text/x-python",
   "name": "python",
   "nbconvert_exporter": "python",
   "pygments_lexer": "ipython3",
   "version": "3.8.12"
  }
 },
 "nbformat": 4,
 "nbformat_minor": 5
}
