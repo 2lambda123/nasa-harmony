{
 "cells": [
  {
   "cell_type": "markdown",
   "id": "9d55385d",
   "metadata": {},
   "source": [
    "# Subsetting on Arbitrary Dimensions"
   ]
  },
  {
   "cell_type": "markdown",
   "id": "34ac8411",
   "metadata": {},
   "source": [
    "### Environment Setup\n",
    "Install the required packages in your virtual environment and import them"
   ]
  },
  {
   "cell_type": "code",
   "execution_count": null,
   "id": "d122949f",
   "metadata": {},
   "outputs": [],
   "source": [
    "import sys\n",
    "!{sys.executable} -m pip install netCDF4 harmony-py"
   ]
  },
  {
   "cell_type": "code",
   "execution_count": 35,
   "id": "f5c98b14",
   "metadata": {},
   "outputs": [],
   "source": [
    "from harmony import BBox, Client, Collection, Request, Dimension\n",
    "from harmony.config import Environment\n",
    "import os\n",
    "import netCDF4 as nc4"
   ]
  },
  {
   "cell_type": "markdown",
   "id": "fbb70fd1",
   "metadata": {},
   "source": [
    "### Request Helper Functions"
   ]
  },
  {
   "cell_type": "code",
   "execution_count": 36,
   "id": "72139df1",
   "metadata": {},
   "outputs": [],
   "source": [
    "# Constructs the Harmony request, subsetting on \"lev\"\n",
    "def get_request(minLon, minLat, maxLon, maxLat):\n",
    "    collection = Collection(id='C1215726323-GES_DISC')\n",
    "    request = Request(\n",
    "        collection = collection,\n",
    "        spatial    = BBox(minLon, minLat, maxLon, maxLat),\n",
    "        dimensions = [Dimension(name='lev', min=800, max=900)],\n",
    "        max_results = 1\n",
    "    )\n",
    "    return request\n",
    "\n",
    "# Submit Harmony request and return the result file name\n",
    "def submit_request(request):\n",
    "    job_id = harmony_client.submit(request)\n",
    "    # show the progress bar for the job, get the result URL\n",
    "    harmony_client.wait_for_processing(job_id, show_progress=True)\n",
    "    harmony_client.result_urls(job_id, show_progress=True)\n",
    "    # create a local subdir, download the results \n",
    "    dir_name = './harmony_dimension_subset_results'\n",
    "    if not os.path.exists(dir_name):\n",
    "        os.mkdir(dir_name)\n",
    "    results = harmony_client.download_all(job_id, directory=dir_name, overwrite=True)\n",
    "    # stash the file names for easy reference\n",
    "    file_names = [f.result() for f in results]\n",
    "    # return the first file name\n",
    "    return file_names[0]"
   ]
  },
  {
   "cell_type": "markdown",
   "id": "a9d47e7a",
   "metadata": {},
   "source": [
    "### Request Submission with harmony-py"
   ]
  },
  {
   "cell_type": "code",
   "execution_count": 37,
   "id": "75b4ecf9",
   "metadata": {},
   "outputs": [
    {
     "data": {
      "text/plain": [
       "'https://harmony.uat.earthdata.nasa.gov/C1215726323-GES_DISC/ogc-api-coverages/1.0.0/collections/all/coverage/rangeset?forceAsync=true&subset=lat%28-10%3A10%29&subset=lon%28-160%3A-75%29&subset=lev%28800%3A900%29&maxResults=1'"
      ]
     },
     "execution_count": 37,
     "metadata": {},
     "output_type": "execute_result"
    }
   ],
   "source": [
    "harmony_client = Client(env=Environment.UAT) # assumes .netrc usage\n",
    "# Tropics Bounding box\n",
    "minLon = -160\n",
    "maxLon = -75\n",
    "minLat = -10\n",
    "maxLat = 10\n",
    "request = get_request(minLon, minLat, maxLon, maxLat)\n",
    "harmony_client._get_prepared_request(request).url"
   ]
  },
  {
   "cell_type": "code",
   "execution_count": 38,
   "id": "6fd870cc",
   "metadata": {},
   "outputs": [
    {
     "name": "stderr",
     "output_type": "stream",
     "text": [
      " [ Processing:   0% ] |                                                   | [/]\n",
      " [ Processing:   0% ] |                                                   | [-]\n",
      " [ Processing:   0% ] |                                                   | [\\]\n",
      " [ Processing:   0% ] |                                                   | [|]\n",
      " [ Processing:   0% ] |                                                   | [/]\n",
      " [ Processing:   0% ] |                                                   | [-]\n",
      " [ Processing:   0% ] |                                                   | [\\]\n",
      " [ Processing:   0% ] |                                                   | [|]\n",
      " [ Processing:   0% ] |                                                   | [/]\n",
      " [ Processing:   0% ] |                                                   | [-]\n",
      " [ Processing:   0% ] |                                                   | [\\]\n",
      " [ Processing:   0% ] |                                                   | [|]\n",
      " [ Processing:   0% ] |                                                   | [/]\n",
      " [ Processing:   0% ] |                                                   | [-]\n",
      " [ Processing:   0% ] |                                                   | [\\]\n",
      " [ Processing:   0% ] |                                                   | [|]\n",
      " [ Processing:   0% ] |                                                   | [/]\n",
      " [ Processing:   0% ] |                                                   | [-]\n",
      " [ Processing:   0% ] |                                                   | [\\]\n",
      " [ Processing:   0% ] |                                                   | [|]\n",
      " [ Processing:   0% ] |                                                   | [/]\n",
      " [ Processing:   0% ] |                                                   | [-]\n",
      " [ Processing:   0% ] |                                                   | [\\]\n",
      " [ Processing:   0% ] |                                                   | [|]\n",
      " [ Processing:   0% ] |                                                   | [/]\n",
      " [ Processing:   0% ] |                                                   | [-]\n",
      " [ Processing:   0% ] |                                                   | [\\]\n",
      " [ Processing: 100% ] |###################################################| [|]\n",
      " [ Processing: 100% ] |###################################################| [|]\n"
     ]
    }
   ],
   "source": [
    "if request.is_valid():\n",
    "    harmony_fname = submit_request(request)\n",
    "else:\n",
    "    harmony_fname = 'Invalid_Request'"
   ]
  },
  {
   "cell_type": "markdown",
   "id": "b376dd6b",
   "metadata": {},
   "source": [
    "### Request Results\n",
    "Inspect the results to see how the data has been subsetted"
   ]
  },
  {
   "cell_type": "code",
   "execution_count": 39,
   "id": "00b4eb94",
   "metadata": {},
   "outputs": [
    {
     "name": "stdout",
     "output_type": "stream",
     "text": [
      "[900. 875. 850. 825. 800.]\n",
      "800.0\n",
      "900.0\n"
     ]
    }
   ],
   "source": [
    "nc4_file=nc4.Dataset(harmony_fname)\n",
    "print(nc4_file.variables['lev'][:])\n",
    "print(min(nc4_file.variables['lev']))\n",
    "print(max(nc4_file.variables['lev']))"
   ]
  }
 ],
 "metadata": {
  "kernelspec": {
   "display_name": "harmony",
   "language": "python",
   "name": "harmony"
  },
  "language_info": {
   "codemirror_mode": {
    "name": "ipython",
    "version": 3
   },
   "file_extension": ".py",
   "mimetype": "text/x-python",
   "name": "python",
   "nbconvert_exporter": "python",
   "pygments_lexer": "ipython3",
   "version": "3.9.2"
  }
 },
 "nbformat": 4,
 "nbformat_minor": 5
}
