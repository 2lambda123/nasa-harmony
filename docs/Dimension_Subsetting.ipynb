{
 "cells": [
  {
   "cell_type": "markdown",
   "id": "9d55385d",
   "metadata": {},
   "source": [
    "# Subsetting on Arbitrary Dimensions"
   ]
  },
  {
   "cell_type": "markdown",
   "id": "34ac8411",
   "metadata": {},
   "source": [
    "### Environment Setup\n",
    "Install the required packages in your virtual environment and import them"
   ]
  },
  {
   "cell_type": "code",
   "execution_count": null,
   "id": "d122949f",
   "metadata": {},
   "outputs": [],
   "source": [
    "import sys\n",
    "!{sys.executable} -m pip install netCDF4 harmony-py"
   ]
  },
  {
   "cell_type": "code",
   "execution_count": 2,
   "id": "f5c98b14",
   "metadata": {},
   "outputs": [],
   "source": [
    "from harmony import BBox, Client, Collection, Request, Dimension\n",
    "from harmony.config import Environment\n",
    "import os\n",
    "import netCDF4 as nc4"
   ]
  },
  {
   "cell_type": "markdown",
   "id": "fbb70fd1",
   "metadata": {},
   "source": [
    "### Request Helper Functions"
   ]
  },
  {
   "cell_type": "markdown",
   "id": "4015ea90",
   "metadata": {},
   "source": [
    "Constructs the Harmony request, subsetting on \"lev\" and a bounding box"
   ]
  },
  {
   "cell_type": "code",
   "execution_count": 3,
   "id": "bd938b36",
   "metadata": {},
   "outputs": [],
   "source": [
    "def get_request():\n",
    "    minLon = -160\n",
    "    maxLon = -75\n",
    "    minLat = -10\n",
    "    maxLat = 10\n",
    "    collection = Collection(id='C1215726323-GES_DISC')\n",
    "    request = Request(\n",
    "        collection = collection,\n",
    "        spatial    = BBox(minLon, minLat, maxLon, maxLat),\n",
    "        dimensions = [Dimension(name='lev', min=800, max=900)],\n",
    "        max_results = 1\n",
    "    )\n",
    "    return request"
   ]
  },
  {
   "cell_type": "markdown",
   "id": "96c634e4",
   "metadata": {},
   "source": [
    "Submits the Harmony request via harmony-py and returns the result file name"
   ]
  },
  {
   "cell_type": "code",
   "execution_count": 4,
   "id": "72139df1",
   "metadata": {},
   "outputs": [],
   "source": [
    "def submit_request(request, harmony_client):\n",
    "    job_id = harmony_client.submit(request)\n",
    "    harmony_client.wait_for_processing(job_id, show_progress=True)\n",
    "    harmony_client.result_urls(job_id, show_progress=True)\n",
    "    dir_name = './harmony_dimension_subset_results'\n",
    "    if not os.path.exists(dir_name):\n",
    "        os.mkdir(dir_name)\n",
    "    results = harmony_client.download_all(job_id, directory=dir_name, overwrite=True)\n",
    "    file_names = [f.result() for f in results]\n",
    "    return file_names[0]"
   ]
  },
  {
   "cell_type": "markdown",
   "id": "a9d47e7a",
   "metadata": {},
   "source": [
    "### Request Execution with harmony-py"
   ]
  },
  {
   "cell_type": "code",
   "execution_count": 5,
   "id": "6fd870cc",
   "metadata": {},
   "outputs": [
    {
     "name": "stderr",
     "output_type": "stream",
     "text": [
      " [ Processing:   0% ] |                                                   | [/]\n",
      " [ Processing:   0% ] |                                                   | [-]\n",
      " [ Processing:   0% ] |                                                   | [\\]\n",
      " [ Processing:   0% ] |                                                   | [|]\n",
      " [ Processing:   0% ] |                                                   | [/]\n",
      " [ Processing:   0% ] |                                                   | [-]\n",
      " [ Processing:   0% ] |                                                   | [\\]\n",
      " [ Processing:   0% ] |                                                   | [|]\n",
      " [ Processing:   0% ] |                                                   | [/]\n",
      " [ Processing:   0% ] |                                                   | [-]\n",
      " [ Processing:   0% ] |                                                   | [\\]\n",
      " [ Processing:   0% ] |                                                   | [|]\n",
      " [ Processing:   0% ] |                                                   | [/]\n",
      " [ Processing:   0% ] |                                                   | [-]\n",
      " [ Processing:   0% ] |                                                   | [\\]\n",
      " [ Processing:   0% ] |                                                   | [|]\n",
      " [ Processing:   0% ] |                                                   | [/]\n",
      " [ Processing:   0% ] |                                                   | [-]\n",
      " [ Processing:   0% ] |                                                   | [\\]\n",
      " [ Processing:   0% ] |                                                   | [|]\n",
      " [ Processing:   0% ] |                                                   | [/]\n",
      " [ Processing:   0% ] |                                                   | [-]\n",
      " [ Processing:   0% ] |                                                   | [\\]\n",
      " [ Processing:   0% ] |                                                   | [|]\n",
      " [ Processing:   0% ] |                                                   | [/]\n",
      " [ Processing:   0% ] |                                                   | [-]\n",
      " [ Processing:   0% ] |                                                   | [\\]\n",
      " [ Processing: 100% ] |###################################################| [|]\n",
      " [ Processing: 100% ] |###################################################| [|]\n"
     ]
    }
   ],
   "source": [
    "harmony_client = Client(env=Environment.UAT) # assumes .netrc usage\n",
    "request = get_request()\n",
    "harmony_fname = submit_request(request, harmony_client)"
   ]
  },
  {
   "cell_type": "markdown",
   "id": "b376dd6b",
   "metadata": {},
   "source": [
    "### Request Results\n",
    "Inspect the results to see how the data has been subsetted"
   ]
  },
  {
   "cell_type": "code",
   "execution_count": 6,
   "id": "00b4eb94",
   "metadata": {},
   "outputs": [
    {
     "name": "stdout",
     "output_type": "stream",
     "text": [
      "[900. 875. 850. 825. 800.]\n",
      "800.0\n",
      "900.0\n"
     ]
    }
   ],
   "source": [
    "nc4_file=nc4.Dataset(harmony_fname)\n",
    "print(nc4_file.variables['lev'][:])\n",
    "print(min(nc4_file.variables['lev']))\n",
    "print(max(nc4_file.variables['lev']))"
   ]
  }
 ],
 "metadata": {
  "kernelspec": {
   "display_name": "harmony",
   "language": "python",
   "name": "harmony"
  },
  "language_info": {
   "codemirror_mode": {
    "name": "ipython",
    "version": 3
   },
   "file_extension": ".py",
   "mimetype": "text/x-python",
   "name": "python",
   "nbconvert_exporter": "python",
   "pygments_lexer": "ipython3",
   "version": "3.9.2"
  }
 },
 "nbformat": 4,
 "nbformat_minor": 5
}
