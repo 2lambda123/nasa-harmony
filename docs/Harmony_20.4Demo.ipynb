{
 "cells": [
  {
   "cell_type": "markdown",
   "metadata": {},
   "source": [
    "# Harmony Service Chaining: PI 20.4 Demo\n",
    "\n",
    "In PI 20.4, Harmony add service chaining capabilities to support requests that require functionality beyond that of a single service.\n",
    "This notebook provides a basic workflow to demonstrate service chaining. For more a general introduction and tutorial, see [Harmony API Introduction](./Harmony%20Api%20Introduction.ipynb).  Useful helpers for making the calls found in this notebook can be found under the [docs/notebook-helpers](./notebook-helpers) folder.\n",
    "\n",
    "## Prerequisites\n",
    "\n",
    "1. Install Python 3. This notebook is tested to work in 3.8 but should work in most recent 3.x versions.\n",
    "2. Install Jupyter: pip install jupyterlab\n",
    "3. Setup your ~/.netrc for Earthdata Login as described in Harmony API Introduction"
   ]
  },
  {
   "cell_type": "markdown",
   "metadata": {},
   "source": [
    "## Set Up AWS\n",
    "\n",
    "Now that you have Zarr links, you can access them with your AWS credentials to the Harmony account.  Obtain the credentials and make sure your default AWS account uses them.  One way to do this is to edit `~/.aws/credentials` to have the following section:\n",
    "```\n",
    "[default]\n",
    "aws_access_key_id = YOUR_HARMONY_ACCESS_KEY_ID\n",
    "aws_secret_access_key = YOUR_HARMONY_SECRET_ACCESS_KEY\n",
    "```\n",
    "Restart your Jupyter kernel after completing this step"
   ]
  },
  {
   "cell_type": "markdown",
   "metadata": {},
   "source": [
    "## Setup imports and Earthdata Login\n",
    "\n",
    "We need to set up general-purpose imports and authentication"
   ]
  },
  {
   "cell_type": "code",
   "execution_count": 7,
   "metadata": {
    "tags": []
   },
   "outputs": [
    {
     "name": "stdout",
     "output_type": "stream",
     "text": [
      "The autoreload extension is already loaded. To reload it, use:\n",
      "  %reload_ext autoreload\n",
      "Requirement already satisfied: rasterio in /Users/jnorton1/.pyenv/versions/3.7.7/lib/python3.7/site-packages (1.1.8)\n",
      "Requirement already satisfied: affine in /Users/jnorton1/.pyenv/versions/3.7.7/lib/python3.7/site-packages (from rasterio) (2.3.0)\n",
      "Requirement already satisfied: click<8,>=4.0 in /Users/jnorton1/.pyenv/versions/3.7.7/lib/python3.7/site-packages (from rasterio) (7.1.2)\n",
      "Requirement already satisfied: click-plugins in /Users/jnorton1/.pyenv/versions/3.7.7/lib/python3.7/site-packages (from rasterio) (1.1.1)\n",
      "Requirement already satisfied: cligj>=0.5 in /Users/jnorton1/.pyenv/versions/3.7.7/lib/python3.7/site-packages (from rasterio) (0.7.1)\n",
      "Requirement already satisfied: attrs in /Users/jnorton1/.pyenv/versions/3.7.7/lib/python3.7/site-packages (from rasterio) (19.3.0)\n",
      "Requirement already satisfied: numpy in /Users/jnorton1/.pyenv/versions/3.7.7/lib/python3.7/site-packages (from rasterio) (1.19.4)\n",
      "Requirement already satisfied: snuggs>=1.4.1 in /Users/jnorton1/.pyenv/versions/3.7.7/lib/python3.7/site-packages (from rasterio) (1.4.7)\n",
      "Requirement already satisfied: click<8,>=4.0 in /Users/jnorton1/.pyenv/versions/3.7.7/lib/python3.7/site-packages (from rasterio) (7.1.2)\n",
      "Requirement already satisfied: click<8,>=4.0 in /Users/jnorton1/.pyenv/versions/3.7.7/lib/python3.7/site-packages (from rasterio) (7.1.2)\n",
      "Requirement already satisfied: pyparsing>=2.1.6 in /Users/jnorton1/.pyenv/versions/3.7.7/lib/python3.7/site-packages (from snuggs>=1.4.1->rasterio) (2.4.7)\n",
      "Requirement already satisfied: numpy in /Users/jnorton1/.pyenv/versions/3.7.7/lib/python3.7/site-packages (from rasterio) (1.19.4)\n"
     ]
    }
   ],
   "source": [
    "%load_ext autoreload\n",
    "%autoreload\n",
    "%matplotlib inline\n",
    "import sys\n",
    "# Install dependencies into the Jupyter Kernel\n",
    "!{sys.executable} -m pip install -q -r notebook_helpers/requirements.txt\n",
    "!{sys.executable} -m pip install rasterio\n",
    "\n",
    "# Import libraries used throughout the notebook\n",
    "from urllib import request, parse\n",
    "from http.cookiejar import CookieJar\n",
    "import getpass\n",
    "import netrc\n",
    "import os\n",
    "import requests\n",
    "import json\n",
    "import pprint\n",
    "import matplotlib.pyplot as pltS\n",
    "import matplotlib.image as mpimg\n",
    "import rasterio\n",
    "from rasterio.plot import show\n",
    "import numpy as np\n",
    "import os\n",
    "import time\n",
    "from notebook_helpers import get, post, show, get_data_urls, show_async, show_async_condensed, show_shape, print_async_status, check_bbox_subset, check_stac"
   ]
  },
  {
   "cell_type": "code",
   "execution_count": 16,
   "metadata": {},
   "outputs": [],
   "source": [
    "def setup_earthdata_login_auth(endpoint):\n",
    "    \"\"\"\n",
    "    Set up the request library so that it authenticates against the given Earthdata Login\n",
    "    endpoint and is able to track cookies between requests.  This looks in the .netrc file \n",
    "    first and if no credentials are found, it prompts for them.\n",
    "\n",
    "    Valid endpoints include:\n",
    "        uat.urs.earthdata.nasa.gov - Earthdata Login UAT (Harmony's current default)\n",
    "        urs.earthdata.nasa.gov - Earthdata Login production\n",
    "    \"\"\"\n",
    "    try:\n",
    "        username, _, password = netrc.netrc().authenticators(endpoint)\n",
    "    except (FileNotFoundError, TypeError):\n",
    "        # FileNotFound = There's no .netrc file\n",
    "        # TypeError = The endpoint isn't in the netrc file, causing the above to try unpacking None\n",
    "        print('Please provide your Earthdata Login credentials to allow data access')\n",
    "        print('Your credentials will only be passed to %s and will not be exposed in Jupyter' % (endpoint))\n",
    "        username = input('Username:')\n",
    "        password = getpass.getpass()\n",
    "\n",
    "    manager = request.HTTPPasswordMgrWithDefaultRealm()\n",
    "    manager.add_password(None, endpoint, username, password)\n",
    "    auth = request.HTTPBasicAuthHandler(manager)\n",
    "\n",
    "    jar = CookieJar()\n",
    "    processor = request.HTTPCookieProcessor(jar)\n",
    "    opener = request.build_opener(auth, processor)\n",
    "    request.install_opener(opener)"
   ]
  },
  {
   "cell_type": "code",
   "execution_count": 17,
   "metadata": {},
   "outputs": [],
   "source": [
    "setup_earthdata_login_auth('uat.urs.earthdata.nasa.gov')"
   ]
  },
  {
   "cell_type": "markdown",
   "metadata": {},
   "source": [
    "## Chained Services - PODAAC L1 Subsetter -> Harmony NetCDF to Zarr\n",
    "\n",
    "This request asks for variable subsetting of L1 data with output in the Zarr format. This requires chaining two services together, the PODAAC L1 Subsetter and the Harmony NetCDF to Zarr service."
   ]
  },
  {
   "cell_type": "code",
   "execution_count": 18,
   "metadata": {},
   "outputs": [],
   "source": [
    "harmony_collection_id = 'C1234208438-POCLOUD'\n",
    "coverages_root = 'https://harmony.sit.earthdata.nasa.gov/{collection}/ogc-api-coverages/1.0.0/collections/{variable}/coverage/rangeset'\n"
   ]
  },
  {
   "cell_type": "markdown",
   "metadata": {},
   "source": [
    "### Variable and spatial subsetting with reformtatting output to Zarr and spatial constraints"
   ]
  },
  {
   "cell_type": "code",
   "execution_count": 19,
   "metadata": {
    "tags": []
   },
   "outputs": [
    {
     "name": "stdout",
     "output_type": "stream",
     "text": [
      "Request URL https://harmony.sit.earthdata.nasa.gov/C1234208438-POCLOUD/ogc-api-coverages/1.0.0/collections/mean_sea_surface/coverage/rangeset?subset=lon(-160%3A-160)&subset=lat(-80%3A80)&maxResults=2&format=application/x-zarr\n",
      "{'createdAt': '2020-12-04T19:56:22.162Z',\n",
      " 'jobID': '566cd3ee-b7c7-4622-8c27-e0b37511dd67',\n",
      " 'links': [{'href': 'https://harmony.sit.earthdata.nasa.gov/jobs/566cd3ee-b7c7-4622-8c27-e0b37511dd67',\n",
      "            'rel': 'self',\n",
      "            'title': 'Job Status',\n",
      "            'type': 'application/json'}],\n",
      " 'message': 'CMR query identified 7154 granules, but the request has been '\n",
      "            'limited to process only the first 2 granules because you '\n",
      "            'requested 2 maxResults.',\n",
      " 'progress': 0,\n",
      " 'request': 'https://harmony.sit.earthdata.nasa.gov/C1234208438-POCLOUD/ogc-api-coverages/1.0.0/collections/mean_sea_surface/coverage/rangeset?subset=lon(-160%3A-160)&subset=lat(-80%3A80)&maxResults=2&format=application%2Fx-zarr',\n",
      " 'status': 'running',\n",
      " 'updatedAt': '2020-12-04T19:56:22.162Z',\n",
      " 'username': 'jnorton1'}\n"
     ]
    }
   ],
   "source": [
    "harmony_root = 'https://harmony.sit.earthdata.nasa.gov'\n",
    "asyncConfig = {\n",
    "    'collection_id': harmony_collection_id,\n",
    "    'ogc-api-coverages_version': '1.0.0',\n",
    "    'variable': 'mean_sea_surface',\n",
    "    'maxResults': '2',\n",
    "    'format': 'application/x-zarr'\n",
    "}\n",
    "\n",
    "async_url = harmony_root+'/{collection_id}/ogc-api-coverages/{ogc-api-coverages_version}/collections/{variable}/coverage/rangeset?subset=lon(-160%3A-160)&subset=lat(-80%3A80)&maxResults={maxResults}&format={format}'.format(**asyncConfig)\n",
    "print('Request URL', async_url)\n",
    "async_response = request.urlopen(async_url)\n",
    "async_results = async_response.read()\n",
    "async_json = json.loads(async_results)\n",
    "pprint.pprint(async_json)\n"
   ]
  },
  {
   "cell_type": "markdown",
   "metadata": {},
   "source": [
    "### Wait for results"
   ]
  },
  {
   "cell_type": "code",
   "execution_count": 20,
   "metadata": {},
   "outputs": [
    {
     "name": "stdout",
     "output_type": "stream",
     "text": [
      "Job status is running. Progress is  0 %. Trying again.\n",
      "Job status is running. Progress is  0 %. Trying again.\n",
      "Job status is running. Progress is  0 %. Trying again.\n",
      "Job status is running. Progress is  0 %. Trying again.\n",
      "Job status is running. Progress is  0 %. Trying again.\n",
      "Job status is running. Progress is  99 %. Trying again.\n",
      "Job progress is 100%. Output links printed below:\n",
      "s3://harmony-sit-staging/public/harmony/podaac-l2-subsetter-netcdf-to-zarr/d37d7f1c-4bb9-43b5-a278-308ba12e8237/JA1_GPS_2PeP220_111_20071231_005214_20071231_014826_mean_sea_surface_subsetted.zarr\n",
      "s3://harmony-sit-staging/public/harmony/podaac-l2-subsetter-netcdf-to-zarr/d37d7f1c-4bb9-43b5-a278-308ba12e8237/JA1_GPS_2PeP220_163_20080102_013524_20080102_023136_mean_sea_surface_subsetted.zarr\n"
     ]
    }
   ],
   "source": [
    "job_url = harmony_root + '/jobs/' + async_json['jobID']\n",
    "\n",
    "#Continue loop while request is still processing\n",
    "while True:\n",
    "    loop_response = request.urlopen(job_url)\n",
    "    loop_results = loop_response.read()\n",
    "    job_json = json.loads(loop_results)\n",
    "    if job_json['status'] != 'running':\n",
    "        break\n",
    "    print('Job status is running. Progress is ', job_json['progress'], '%. Trying again.')\n",
    "    time.sleep(5)\n",
    "\n",
    "links = []\n",
    "if job_json['status'] == 'successful' and job_json['progress'] == 100:\n",
    "    print('Job progress is 100%. Output links printed below:')\n",
    "    links = [link['href'] for link in job_json['links'] if link.get('rel', 'data') == 'data']\n",
    "    print('\\n'.join(links))"
   ]
  },
  {
   "cell_type": "markdown",
   "metadata": {},
   "source": [
    "### Open the Zarr file"
   ]
  },
  {
   "cell_type": "code",
   "execution_count": 31,
   "metadata": {},
   "outputs": [
    {
     "name": "stdout",
     "output_type": "stream",
     "text": [
      "Requirement already satisfied: s3fs in /Users/jnorton1/.pyenv/versions/3.7.7/lib/python3.7/site-packages (0.5.1)\n",
      "Requirement already satisfied: fsspec>=0.8.0 in /Users/jnorton1/.pyenv/versions/3.7.7/lib/python3.7/site-packages (from s3fs) (0.8.4)\n",
      "Requirement already satisfied: aiobotocore>=1.0.1 in /Users/jnorton1/.pyenv/versions/3.7.7/lib/python3.7/site-packages (from s3fs) (1.1.2)\n",
      "Requirement already satisfied: aioitertools>=0.5.1 in /Users/jnorton1/.pyenv/versions/3.7.7/lib/python3.7/site-packages (from aiobotocore>=1.0.1->s3fs) (0.7.1)\n",
      "Requirement already satisfied: wrapt>=1.10.10 in /Users/jnorton1/.pyenv/versions/3.7.7/lib/python3.7/site-packages (from aiobotocore>=1.0.1->s3fs) (1.12.1)\n",
      "Requirement already satisfied: aiohttp>=3.3.1 in /Users/jnorton1/.pyenv/versions/3.7.7/lib/python3.7/site-packages (from aiobotocore>=1.0.1->s3fs) (3.7.3)\n",
      "Requirement already satisfied: typing-extensions>=3.6.5 in /Users/jnorton1/.pyenv/versions/3.7.7/lib/python3.7/site-packages (from aiohttp>=3.3.1->aiobotocore>=1.0.1->s3fs) (3.7.4.3)\n",
      "Requirement already satisfied: async-timeout<4.0,>=3.0 in /Users/jnorton1/.pyenv/versions/3.7.7/lib/python3.7/site-packages (from aiohttp>=3.3.1->aiobotocore>=1.0.1->s3fs) (3.0.1)\n",
      "Requirement already satisfied: chardet<4.0,>=2.0 in /Users/jnorton1/.pyenv/versions/3.7.7/lib/python3.7/site-packages (from aiohttp>=3.3.1->aiobotocore>=1.0.1->s3fs) (3.0.4)\n",
      "Requirement already satisfied: multidict<7.0,>=4.5 in /Users/jnorton1/.pyenv/versions/3.7.7/lib/python3.7/site-packages (from aiohttp>=3.3.1->aiobotocore>=1.0.1->s3fs) (5.1.0)\n",
      "Requirement already satisfied: attrs>=17.3.0 in /Users/jnorton1/.pyenv/versions/3.7.7/lib/python3.7/site-packages (from aiohttp>=3.3.1->aiobotocore>=1.0.1->s3fs) (19.3.0)\n",
      "Requirement already satisfied: yarl<2.0,>=1.0 in /Users/jnorton1/.pyenv/versions/3.7.7/lib/python3.7/site-packages (from aiohttp>=3.3.1->aiobotocore>=1.0.1->s3fs) (1.6.3)\n",
      "Requirement already satisfied: typing-extensions>=3.6.5 in /Users/jnorton1/.pyenv/versions/3.7.7/lib/python3.7/site-packages (from aiohttp>=3.3.1->aiobotocore>=1.0.1->s3fs) (3.7.4.3)\n",
      "Collecting botocore<1.17.45,>=1.17.44\n",
      "  Using cached botocore-1.17.44-py2.py3-none-any.whl (6.5 MB)\n",
      "Requirement already satisfied: jmespath<1.0.0,>=0.7.1 in /Users/jnorton1/.pyenv/versions/3.7.7/lib/python3.7/site-packages (from botocore<1.17.45,>=1.17.44->aiobotocore>=1.0.1->s3fs) (0.10.0)\n",
      "Requirement already satisfied: docutils<0.16,>=0.10 in /Users/jnorton1/.pyenv/versions/3.7.7/lib/python3.7/site-packages (from botocore<1.17.45,>=1.17.44->aiobotocore>=1.0.1->s3fs) (0.15.2)\n",
      "Requirement already satisfied: urllib3<1.26,>=1.20 in /Users/jnorton1/.pyenv/versions/3.7.7/lib/python3.7/site-packages (from botocore<1.17.45,>=1.17.44->aiobotocore>=1.0.1->s3fs) (1.25.9)\n",
      "Requirement already satisfied: python-dateutil<3.0.0,>=2.1 in /Users/jnorton1/.pyenv/versions/3.7.7/lib/python3.7/site-packages (from botocore<1.17.45,>=1.17.44->aiobotocore>=1.0.1->s3fs) (2.7.5)\n",
      "Requirement already satisfied: six>=1.5 in /Users/jnorton1/.pyenv/versions/3.7.7/lib/python3.7/site-packages (from python-dateutil<3.0.0,>=2.1->botocore<1.17.45,>=1.17.44->aiobotocore>=1.0.1->s3fs) (1.14.0)\n",
      "Requirement already satisfied: typing-extensions>=3.6.5 in /Users/jnorton1/.pyenv/versions/3.7.7/lib/python3.7/site-packages (from aiohttp>=3.3.1->aiobotocore>=1.0.1->s3fs) (3.7.4.3)\n",
      "Requirement already satisfied: multidict<7.0,>=4.5 in /Users/jnorton1/.pyenv/versions/3.7.7/lib/python3.7/site-packages (from aiohttp>=3.3.1->aiobotocore>=1.0.1->s3fs) (5.1.0)\n",
      "Requirement already satisfied: idna>=2.0 in /Users/jnorton1/.pyenv/versions/3.7.7/lib/python3.7/site-packages (from yarl<2.0,>=1.0->aiohttp>=3.3.1->aiobotocore>=1.0.1->s3fs) (2.9)\n",
      "Installing collected packages: botocore\n",
      "  Attempting uninstall: botocore\n",
      "    Found existing installation: botocore 1.16.26\n",
      "    Uninstalling botocore-1.16.26:\n",
      "      Successfully uninstalled botocore-1.16.26\n",
      "\u001b[31mERROR: pip's dependency resolver does not currently take into account all the packages that are installed. This behaviour is the source of the following dependency conflicts.\n",
      "boto3 1.13.21 requires botocore<1.17.0,>=1.16.21, but you have botocore 1.17.44 which is incompatible.\u001b[0m\n",
      "Successfully installed botocore-1.17.44\n",
      "Requirement already satisfied: botocore in /Users/jnorton1/.pyenv/versions/3.7.7/lib/python3.7/site-packages (1.17.44)\n",
      "Collecting botocore\n",
      "  Downloading botocore-1.19.29-py2.py3-none-any.whl (7.0 MB)\n",
      "\u001b[K     |████████████████████████████████| 7.0 MB 2.3 MB/s eta 0:00:01\n",
      "\u001b[?25hRequirement already satisfied: urllib3<1.27,>=1.25.4 in /Users/jnorton1/.pyenv/versions/3.7.7/lib/python3.7/site-packages (from botocore) (1.25.9)\n",
      "Requirement already satisfied: python-dateutil<3.0.0,>=2.1 in /Users/jnorton1/.pyenv/versions/3.7.7/lib/python3.7/site-packages (from botocore) (2.7.5)\n",
      "Requirement already satisfied: jmespath<1.0.0,>=0.7.1 in /Users/jnorton1/.pyenv/versions/3.7.7/lib/python3.7/site-packages (from botocore) (0.10.0)\n",
      "Requirement already satisfied: six>=1.5 in /Users/jnorton1/.pyenv/versions/3.7.7/lib/python3.7/site-packages (from python-dateutil<3.0.0,>=2.1->botocore) (1.14.0)\n",
      "Installing collected packages: botocore\n",
      "  Attempting uninstall: botocore\n",
      "    Found existing installation: botocore 1.17.44\n",
      "    Uninstalling botocore-1.17.44:\n",
      "      Successfully uninstalled botocore-1.17.44\n",
      "\u001b[31mERROR: pip's dependency resolver does not currently take into account all the packages that are installed. This behaviour is the source of the following dependency conflicts.\n",
      "boto3 1.13.21 requires botocore<1.17.0,>=1.16.21, but you have botocore 1.19.29 which is incompatible.\n",
      "aiobotocore 1.1.2 requires botocore<1.17.45,>=1.17.44, but you have botocore 1.19.29 which is incompatible.\u001b[0m\n",
      "Successfully installed botocore-1.19.29\n",
      "Requirement already satisfied: boto3 in /Users/jnorton1/.pyenv/versions/3.7.7/lib/python3.7/site-packages (1.13.21)\n",
      "Collecting boto3\n",
      "  Downloading boto3-1.16.29-py2.py3-none-any.whl (129 kB)\n",
      "\u001b[K     |████████████████████████████████| 129 kB 1.4 MB/s eta 0:00:01\n",
      "\u001b[?25hRequirement already satisfied: jmespath<1.0.0,>=0.7.1 in /Users/jnorton1/.pyenv/versions/3.7.7/lib/python3.7/site-packages (from boto3) (0.10.0)\n",
      "Requirement already satisfied: s3transfer<0.4.0,>=0.3.0 in /Users/jnorton1/.pyenv/versions/3.7.7/lib/python3.7/site-packages (from boto3) (0.3.3)\n",
      "Requirement already satisfied: botocore<1.20.0,>=1.19.29 in /Users/jnorton1/.pyenv/versions/3.7.7/lib/python3.7/site-packages (from boto3) (1.19.29)\n",
      "Requirement already satisfied: urllib3<1.27,>=1.25.4 in /Users/jnorton1/.pyenv/versions/3.7.7/lib/python3.7/site-packages (from botocore<1.20.0,>=1.19.29->boto3) (1.25.9)\n",
      "Requirement already satisfied: python-dateutil<3.0.0,>=2.1 in /Users/jnorton1/.pyenv/versions/3.7.7/lib/python3.7/site-packages (from botocore<1.20.0,>=1.19.29->boto3) (2.7.5)\n",
      "Requirement already satisfied: jmespath<1.0.0,>=0.7.1 in /Users/jnorton1/.pyenv/versions/3.7.7/lib/python3.7/site-packages (from boto3) (0.10.0)\n",
      "Requirement already satisfied: six>=1.5 in /Users/jnorton1/.pyenv/versions/3.7.7/lib/python3.7/site-packages (from python-dateutil<3.0.0,>=2.1->botocore<1.20.0,>=1.19.29->boto3) (1.14.0)\n",
      "Requirement already satisfied: botocore<1.20.0,>=1.19.29 in /Users/jnorton1/.pyenv/versions/3.7.7/lib/python3.7/site-packages (from boto3) (1.19.29)\n",
      "Installing collected packages: boto3\n",
      "  Attempting uninstall: boto3\n",
      "    Found existing installation: boto3 1.13.21\n",
      "    Uninstalling boto3-1.13.21:\n",
      "      Successfully uninstalled boto3-1.13.21\n",
      "Successfully installed boto3-1.16.29\n"
     ]
    }
   ],
   "source": [
    "!pip install s3fs\n",
    "!pip install botocore --upgrade\n",
    "!pip install boto3 --upgrade"
   ]
  },
  {
   "cell_type": "code",
   "execution_count": 35,
   "metadata": {},
   "outputs": [
    {
     "ename": "ImportError",
     "evalue": "cannot import name 'SSOProvider' from 'botocore.credentials' (/Users/jnorton1/.pyenv/versions/3.7.7/lib/python3.7/site-packages/botocore/credentials.py)",
     "output_type": "error",
     "traceback": [
      "\u001b[0;31m---------------------------------------------------------------------------\u001b[0m",
      "\u001b[0;31mImportError\u001b[0m                               Traceback (most recent call last)",
      "\u001b[0;32m<ipython-input-35-b166a2534601>\u001b[0m in \u001b[0;36m<module>\u001b[0;34m\u001b[0m\n\u001b[0;32m----> 1\u001b[0;31m \u001b[0;32mimport\u001b[0m \u001b[0ms3fs\u001b[0m\u001b[0;34m\u001b[0m\u001b[0;34m\u001b[0m\u001b[0m\n\u001b[0m\u001b[1;32m      2\u001b[0m \u001b[0;32mimport\u001b[0m \u001b[0mzarr\u001b[0m\u001b[0;34m\u001b[0m\u001b[0;34m\u001b[0m\u001b[0m\n\u001b[1;32m      3\u001b[0m \u001b[0;34m\u001b[0m\u001b[0m\n\u001b[1;32m      4\u001b[0m \u001b[0;31m# older versions of s3fs\u001b[0m\u001b[0;34m\u001b[0m\u001b[0;34m\u001b[0m\u001b[0;34m\u001b[0m\u001b[0m\n\u001b[1;32m      5\u001b[0m \u001b[0;31m# fs = s3fs.S3FileSystem(region_name='us-west-2')\u001b[0m\u001b[0;34m\u001b[0m\u001b[0;34m\u001b[0m\u001b[0;34m\u001b[0m\u001b[0m\n",
      "\u001b[0;32m~/.pyenv/versions/3.7.7/lib/python3.7/site-packages/s3fs/__init__.py\u001b[0m in \u001b[0;36m<module>\u001b[0;34m\u001b[0m\n\u001b[0;32m----> 1\u001b[0;31m \u001b[0;32mfrom\u001b[0m \u001b[0;34m.\u001b[0m\u001b[0mcore\u001b[0m \u001b[0;32mimport\u001b[0m \u001b[0mS3FileSystem\u001b[0m\u001b[0;34m,\u001b[0m \u001b[0mS3File\u001b[0m\u001b[0;34m\u001b[0m\u001b[0;34m\u001b[0m\u001b[0m\n\u001b[0m\u001b[1;32m      2\u001b[0m \u001b[0;32mfrom\u001b[0m \u001b[0;34m.\u001b[0m\u001b[0mmapping\u001b[0m \u001b[0;32mimport\u001b[0m \u001b[0mS3Map\u001b[0m\u001b[0;34m\u001b[0m\u001b[0;34m\u001b[0m\u001b[0m\n\u001b[1;32m      3\u001b[0m \u001b[0;34m\u001b[0m\u001b[0m\n\u001b[1;32m      4\u001b[0m \u001b[0;32mfrom\u001b[0m \u001b[0;34m.\u001b[0m\u001b[0m_version\u001b[0m \u001b[0;32mimport\u001b[0m \u001b[0mget_versions\u001b[0m\u001b[0;34m\u001b[0m\u001b[0;34m\u001b[0m\u001b[0m\n\u001b[1;32m      5\u001b[0m \u001b[0;34m\u001b[0m\u001b[0m\n",
      "\u001b[0;32m~/.pyenv/versions/3.7.7/lib/python3.7/site-packages/s3fs/core.py\u001b[0m in \u001b[0;36m<module>\u001b[0;34m\u001b[0m\n\u001b[1;32m     12\u001b[0m \u001b[0;32mfrom\u001b[0m \u001b[0mfsspec\u001b[0m\u001b[0;34m.\u001b[0m\u001b[0masyn\u001b[0m \u001b[0;32mimport\u001b[0m \u001b[0mAsyncFileSystem\u001b[0m\u001b[0;34m,\u001b[0m \u001b[0msync\u001b[0m\u001b[0;34m,\u001b[0m \u001b[0msync_wrapper\u001b[0m\u001b[0;34m,\u001b[0m \u001b[0mmaybe_sync\u001b[0m\u001b[0;34m\u001b[0m\u001b[0;34m\u001b[0m\u001b[0m\n\u001b[1;32m     13\u001b[0m \u001b[0;34m\u001b[0m\u001b[0m\n\u001b[0;32m---> 14\u001b[0;31m \u001b[0;32mimport\u001b[0m \u001b[0maiobotocore\u001b[0m\u001b[0;34m\u001b[0m\u001b[0;34m\u001b[0m\u001b[0m\n\u001b[0m\u001b[1;32m     15\u001b[0m \u001b[0;32mimport\u001b[0m \u001b[0mbotocore\u001b[0m\u001b[0;34m\u001b[0m\u001b[0;34m\u001b[0m\u001b[0m\n\u001b[1;32m     16\u001b[0m \u001b[0;32mimport\u001b[0m \u001b[0maiobotocore\u001b[0m\u001b[0;34m.\u001b[0m\u001b[0msession\u001b[0m\u001b[0;34m\u001b[0m\u001b[0;34m\u001b[0m\u001b[0m\n",
      "\u001b[0;32m~/.pyenv/versions/3.7.7/lib/python3.7/site-packages/aiobotocore/__init__.py\u001b[0m in \u001b[0;36m<module>\u001b[0;34m\u001b[0m\n\u001b[0;32m----> 1\u001b[0;31m \u001b[0;32mfrom\u001b[0m \u001b[0;34m.\u001b[0m\u001b[0msession\u001b[0m \u001b[0;32mimport\u001b[0m \u001b[0mget_session\u001b[0m\u001b[0;34m,\u001b[0m \u001b[0mAioSession\u001b[0m\u001b[0;34m\u001b[0m\u001b[0;34m\u001b[0m\u001b[0m\n\u001b[0m\u001b[1;32m      2\u001b[0m \u001b[0;34m\u001b[0m\u001b[0m\n\u001b[1;32m      3\u001b[0m \u001b[0m__all__\u001b[0m \u001b[0;34m=\u001b[0m \u001b[0;34m[\u001b[0m\u001b[0;34m'get_session'\u001b[0m\u001b[0;34m,\u001b[0m \u001b[0;34m'AioSession'\u001b[0m\u001b[0;34m]\u001b[0m\u001b[0;34m\u001b[0m\u001b[0;34m\u001b[0m\u001b[0m\n\u001b[1;32m      4\u001b[0m \u001b[0m__version__\u001b[0m \u001b[0;34m=\u001b[0m \u001b[0;34m'1.1.2'\u001b[0m\u001b[0;34m\u001b[0m\u001b[0;34m\u001b[0m\u001b[0m\n",
      "\u001b[0;32m~/.pyenv/versions/3.7.7/lib/python3.7/site-packages/aiobotocore/session.py\u001b[0m in \u001b[0;36m<module>\u001b[0;34m\u001b[0m\n\u001b[1;32m      9\u001b[0m \u001b[0;32mfrom\u001b[0m \u001b[0;34m.\u001b[0m\u001b[0msigners\u001b[0m \u001b[0;32mimport\u001b[0m \u001b[0madd_generate_presigned_url\u001b[0m\u001b[0;34m,\u001b[0m \u001b[0madd_generate_presigned_post\u001b[0m\u001b[0;34m,\u001b[0m\u001b[0;31m \u001b[0m\u001b[0;31m\\\u001b[0m\u001b[0;34m\u001b[0m\u001b[0;34m\u001b[0m\u001b[0m\n\u001b[1;32m     10\u001b[0m     \u001b[0madd_generate_db_auth_token\u001b[0m\u001b[0;34m\u001b[0m\u001b[0;34m\u001b[0m\u001b[0m\n\u001b[0;32m---> 11\u001b[0;31m \u001b[0;32mfrom\u001b[0m \u001b[0;34m.\u001b[0m\u001b[0mcredentials\u001b[0m \u001b[0;32mimport\u001b[0m \u001b[0mcreate_credential_resolver\u001b[0m\u001b[0;34m,\u001b[0m \u001b[0mAioCredentials\u001b[0m\u001b[0;34m\u001b[0m\u001b[0;34m\u001b[0m\u001b[0m\n\u001b[0m\u001b[1;32m     12\u001b[0m \u001b[0;34m\u001b[0m\u001b[0m\n\u001b[1;32m     13\u001b[0m \u001b[0;34m\u001b[0m\u001b[0m\n",
      "\u001b[0;32m~/.pyenv/versions/3.7.7/lib/python3.7/site-packages/aiobotocore/credentials.py\u001b[0m in \u001b[0;36m<module>\u001b[0;34m\u001b[0m\n\u001b[1;32m     13\u001b[0m \u001b[0;32mfrom\u001b[0m \u001b[0mbotocore\u001b[0m\u001b[0;34m.\u001b[0m\u001b[0mconfig\u001b[0m \u001b[0;32mimport\u001b[0m \u001b[0mConfig\u001b[0m\u001b[0;34m\u001b[0m\u001b[0;34m\u001b[0m\u001b[0m\n\u001b[1;32m     14\u001b[0m \u001b[0;32mimport\u001b[0m \u001b[0mbotocore\u001b[0m\u001b[0;34m.\u001b[0m\u001b[0mcompat\u001b[0m\u001b[0;34m\u001b[0m\u001b[0;34m\u001b[0m\u001b[0m\n\u001b[0;32m---> 15\u001b[0;31m \u001b[0;32mfrom\u001b[0m \u001b[0mbotocore\u001b[0m\u001b[0;34m.\u001b[0m\u001b[0mcredentials\u001b[0m \u001b[0;32mimport\u001b[0m \u001b[0mEnvProvider\u001b[0m\u001b[0;34m,\u001b[0m \u001b[0mCredentials\u001b[0m\u001b[0;34m,\u001b[0m \u001b[0mRefreshableCredentials\u001b[0m\u001b[0;34m,\u001b[0m\u001b[0;31m \u001b[0m\u001b[0;31m\\\u001b[0m\u001b[0;34m\u001b[0m\u001b[0;34m\u001b[0m\u001b[0m\n\u001b[0m\u001b[1;32m     16\u001b[0m     \u001b[0mReadOnlyCredentials\u001b[0m\u001b[0;34m,\u001b[0m \u001b[0mContainerProvider\u001b[0m\u001b[0;34m,\u001b[0m \u001b[0mContainerMetadataFetcher\u001b[0m\u001b[0;34m,\u001b[0m\u001b[0;31m \u001b[0m\u001b[0;31m\\\u001b[0m\u001b[0;34m\u001b[0m\u001b[0;34m\u001b[0m\u001b[0m\n\u001b[1;32m     17\u001b[0m     \u001b[0m_parse_if_needed\u001b[0m\u001b[0;34m,\u001b[0m \u001b[0mInstanceMetadataProvider\u001b[0m\u001b[0;34m,\u001b[0m \u001b[0m_get_client_creator\u001b[0m\u001b[0;34m,\u001b[0m\u001b[0;31m \u001b[0m\u001b[0;31m\\\u001b[0m\u001b[0;34m\u001b[0m\u001b[0;34m\u001b[0m\u001b[0m\n",
      "\u001b[0;31mImportError\u001b[0m: cannot import name 'SSOProvider' from 'botocore.credentials' (/Users/jnorton1/.pyenv/versions/3.7.7/lib/python3.7/site-packages/botocore/credentials.py)"
     ]
    }
   ],
   "source": [
    "import s3fs\n",
    "import zarr\n",
    "\n",
    "# older versions of s3fs\n",
    "# fs = s3fs.S3FileSystem(region_name='us-west-2')\n",
    "\n",
    "# import botocore\n",
    "# client_session = botocore.session.Session(profile='NON-DEFAULT-PROFILE')\n",
    "# fs = s3fs.S3FileSystem(session=client_session, client_kwargs={'region_name':'us-west-2'})\n",
    "\n",
    "fs = s3fs.S3FileSystem(client_kwargs={'region_name':'us-west-2'})\n",
    "\n",
    "store = fs.get_mapper(root=links[0], check=False)\n",
    "zarr_file = zarr.open(store)"
   ]
  },
  {
   "cell_type": "markdown",
   "metadata": {},
   "source": [
    "### Explore the Zarr file"
   ]
  },
  {
   "cell_type": "code",
   "execution_count": null,
   "metadata": {},
   "outputs": [],
   "source": [
    "print(zarr_file.tree())"
   ]
  },
  {
   "cell_type": "code",
   "execution_count": null,
   "metadata": {},
   "outputs": [],
   "source": [
    "plt.imshow(zarr_file['green_var'][0], cmap='Greens');"
   ]
  }
 ],
 "metadata": {
  "file_extension": ".py",
  "kernelspec": {
   "display_name": "Python 3",
   "language": "python",
   "name": "python3"
  },
  "language_info": {
   "codemirror_mode": {
    "name": "ipython",
    "version": 3
   },
   "file_extension": ".py",
   "mimetype": "text/x-python",
   "name": "python",
   "nbconvert_exporter": "python",
   "pygments_lexer": "ipython3",
   "version": "3.7.7"
  },
  "mimetype": "text/x-python",
  "name": "python",
  "npconvert_exporter": "python",
  "pygments_lexer": "ipython3",
  "version": 3
 },
 "nbformat": 4,
 "nbformat_minor": 4
}
