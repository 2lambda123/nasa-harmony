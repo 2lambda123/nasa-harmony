{
 "cells": [
  {
   "cell_type": "markdown",
   "metadata": {},
   "source": [
    "# Harmony Service Chaining: PI 20.4 Demo\n",
    "\n",
    "In PI 20.4, Harmony add service chaining capabilities to support requests that require functionality beyond that of a single service.\n",
    "This notebook provides a basic workflow to demonstrate service chaining. For more a general introduction and tutorial, see [Harmony API Introduction](./Harmony%20Api%20Introduction.ipynb).  Useful helpers for making the calls found in this notebook can be found under the [docs/notebook-helpers](./notebook-helpers) folder.\n",
    "\n",
    "## Prerequisites\n",
    "\n",
    "1. Install Python 3. This notebook is tested to work in 3.8 but should work in most recent 3.x versions.\n",
    "2. Install Jupyter: pip install jupyterlab\n",
    "3. Setup your ~/.netrc for Earthdata Login as described in Harmony API Introduction\n",
    "4. Run the following cell to install Python dependencies, import necessary modules, and set notebook defaults"
   ]
  },
  {
   "cell_type": "code",
   "execution_count": null,
   "metadata": {
    "tags": []
   },
   "outputs": [],
   "source": [
    "%load_ext autoreload\n",
    "%autoreload\n",
    "%matplotlib inline\n",
    "\n",
    "import sys\n",
    "# Install dependencies into the Jupyter Kernel\n",
    "!{sys.executable} -m pip install -q -r notebook_helpers/requirements.txt\n",
    "\n",
    "# Import libraries used throughout the notebook\n",
    "from notebook_helpers import get, post, show, get_data_urls, show_async, show_async_condensed, show_shape, print_async_status, check_bbox_subset, check_stac"
   ]
  },
  {
   "cell_type": "markdown",
   "metadata": {},
   "source": [
    "## Chained Services - PODAAC L1 Subsetter -> Harmony NetCDF to Zarr\n",
    "\n",
    "This request asks for variable subsetting of L1 data with output in the Zarr format. This requires chaining two services together, the PODAAC L1 Subsetter and the Harmony NetCDF to Zarr service."
   ]
  },
  {
   "cell_type": "code",
   "execution_count": null,
   "metadata": {},
   "outputs": [],
   "source": [
    "podaac_collection = 'C1234208438-POCLOUD'\n",
    "coverages_root = 'https://harmony.sit.earthdata.nasa.gov/{collection}/ogc-api-coverages/1.0.0/collections/{variable}/coverage/rangeset'\n"
   ]
  },
  {
   "cell_type": "markdown",
   "metadata": {},
   "source": [
    "### Variable and spatial subsetting with reformtatting output to Zarr and spatial constraints"
   ]
  },
  {
   "cell_type": "code",
   "execution_count": null,
   "metadata": {
    "tags": []
   },
   "outputs": [],
   "source": [
    "response = get(\n",
    "    coverages_root.format(\n",
    "        collection=podaac_collection, \n",
    "        variable='mean%5Fsea%5fsurface'),\n",
    "    params={\n",
    "        'format': 'application/x-zarr',\n",
    "        'subset': [\n",
    "            'lon(-160:-160)', \n",
    "            'lat(-80:80)'\n",
    "            ],\n",
    "        'maxResults': '2'})\n",
    "\n",
    "show_async(response)"
   ]
  },
  {
   "cell_type": "code",
   "execution_count": null,
   "metadata": {},
   "outputs": [],
   "source": []
  }
 ],
 "metadata": {
  "file_extension": ".py",
  "kernelspec": {
   "display_name": "Python 3",
   "language": "python",
   "name": "python3"
  },
  "language_info": {
   "codemirror_mode": {
    "name": "ipython",
    "version": 3
   },
   "file_extension": ".py",
   "mimetype": "text/x-python",
   "name": "python",
   "nbconvert_exporter": "python",
   "pygments_lexer": "ipython3",
   "version": "3.7.7"
  },
  "mimetype": "text/x-python",
  "name": "python",
  "npconvert_exporter": "python",
  "pygments_lexer": "ipython3",
  "version": 3
 },
 "nbformat": 4,
 "nbformat_minor": 4
}
